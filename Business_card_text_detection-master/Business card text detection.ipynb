{
 "cells": [
  {
   "cell_type": "markdown",
   "metadata": {},
   "source": [
    "<H1> How to extract text from a photo of a business card using Python"
   ]
  },
  {
   "cell_type": "markdown",
   "metadata": {},
   "source": [
    "<h2> Introduction"
   ]
  },
  {
   "cell_type": "markdown",
   "metadata": {},
   "source": [
    "This article is a reflection of my final project for a boot camp in data science.\n",
    "My project is: Extracting text from a photo of a business card and categorizing the information by the text's label."
   ]
  },
  {
   "cell_type": "markdown",
   "metadata": {},
   "source": [
    "---------"
   ]
  },
  {
   "cell_type": "markdown",
   "metadata": {},
   "source": [
    "Extracting textual data could be so simple in general, especially when we use exiting libraries.\n",
    "When I was working on the project, I noticed that libraries are built to extract text from PDF files and other photos with a simple design.\n",
    "Therefore, extracting text from a business card image was a bit challenging due to the complexity of each card design especially using background colors."
   ]
  },
  {
   "cell_type": "markdown",
   "metadata": {
    "ExecuteTime": {
     "end_time": "2020-06-11T13:04:30.018388Z",
     "start_time": "2020-06-11T13:04:30.012390Z"
    }
   },
   "source": [
    "<h2> Setup"
   ]
  },
  {
   "cell_type": "markdown",
   "metadata": {},
   "source": [
    "For this tutorial, I’ll be using Python 3.7.6. You can use any version you like (as long as it supports the relevant libraries).\n",
    "\n",
    "You will require the following Python libraries in order to follow this tutorial:\n",
    "\n",
    "- OpenCV (https://pypi.org/project/opencv-python/) to work with images and prepare them to the converting processes \n",
    "- pytesseract (https://pypi.org/project/pytesseract/) to convert photos files into text readable by Python\n",
    "\n",
    "Each of these libraries can be installed with the following commands:"
   ]
  },
  {
   "cell_type": "raw",
   "metadata": {
    "ExecuteTime": {
     "end_time": "2020-06-11T13:37:47.224431Z",
     "start_time": "2020-06-11T13:37:47.219433Z"
    }
   },
   "source": [
    "pip install opencv-python\n",
    "pip install pytesseract"
   ]
  },
  {
   "cell_type": "markdown",
   "metadata": {},
   "source": [
    "This will download the libraries you require to parse business card images and extract keywords."
   ]
  },
  {
   "cell_type": "markdown",
   "metadata": {},
   "source": [
    "We will be also using Regular expressions-regex (https://docs.python.org/fr/3.6/library/re.html) to clean and convert phrases into keywords."
   ]
  },
  {
   "cell_type": "markdown",
   "metadata": {
    "ExecuteTime": {
     "end_time": "2020-06-11T14:46:27.880962Z",
     "start_time": "2020-06-11T14:46:27.865331Z"
    }
   },
   "source": [
    "<h2> Import Libraries"
   ]
  },
  {
   "cell_type": "raw",
   "metadata": {},
   "source": [
    "import cv2\n",
    "import pytesseract\n",
    "import re"
   ]
  },
  {
   "cell_type": "markdown",
   "metadata": {},
   "source": [
    "<h2> Read the file"
   ]
  },
  {
   "cell_type": "markdown",
   "metadata": {},
   "source": [
    "In order to read the file, the 1st thing you need to do is to make sure your image file is stored within the folder where you’re writing your script.\n",
    "Then you can read the file:"
   ]
  },
  {
   "cell_type": "raw",
   "metadata": {},
   "source": [
    "File_path = \"IMAGE_PATH\""
   ]
  },
  {
   "cell_type": "raw",
   "metadata": {},
   "source": [
    "img = cv2.imread(File_path, -1)"
   ]
  },
  {
   "cell_type": "markdown",
   "metadata": {
    "ExecuteTime": {
     "end_time": "2020-06-11T14:51:56.778208Z",
     "start_time": "2020-06-11T14:51:56.772208Z"
    }
   },
   "source": [
    "<h2> Image preprocessing"
   ]
  },
  {
   "cell_type": "markdown",
   "metadata": {},
   "source": [
    "As I mentioned before about the difficulties of extracting text from a business card image due to the card design.\n",
    "The first and most important step will be to define the color of the card background if it is light or dark, which will lead us to a better text extracting using pytesseract library."
   ]
  },
  {
   "cell_type": "markdown",
   "metadata": {
    "ExecuteTime": {
     "end_time": "2020-06-11T15:05:24.119461Z",
     "start_time": "2020-06-11T15:05:24.113460Z"
    }
   },
   "source": [
    "To do so, I started by converting the image to a gray scale image, then I modified the threshold twice, 1st time I considered that we have a dark background, the 2nd time I considered that we have a light one."
   ]
  },
  {
   "cell_type": "raw",
   "metadata": {},
   "source": [
    "gray = cv2.cvtColor(img, cv2.COLOR_BGR2GRAY)\n",
    "\n",
    "_, th_1 = cv2.threshold(gray, 200, 255, cv2.THRESH_BINARY_INV) # for black backgrounds - binary - global\n",
    "_, th_2 = cv2.threshold(gray, 100, 255, cv2.THRESH_BINARY) # for white backgrounds - binary - global"
   ]
  },
  {
   "cell_type": "markdown",
   "metadata": {},
   "source": [
    "By doing the last step, I kind dealt with the possibility of having both light and dark backgrounds."
   ]
  },
  {
   "cell_type": "markdown",
   "metadata": {},
   "source": [
    "The next step will be to detect the text and determine if the image has a dark or light background."
   ]
  },
  {
   "cell_type": "markdown",
   "metadata": {},
   "source": [
    "To detect the text, I will use pytesseract library"
   ]
  },
  {
   "cell_type": "raw",
   "metadata": {},
   "source": [
    "text_1 = pytesseract.image_to_string(th_1)\n",
    "text_2 = pytesseract.image_to_string(th_2)"
   ]
  },
  {
   "cell_type": "markdown",
   "metadata": {},
   "source": [
    "In order to determine if the image has a dark or light background, we will simply count the length of text considering the dark background and another time considering the light background and finally compare both texts. The text corresponding to the right consideration will be longer than the other one."
   ]
  },
  {
   "cell_type": "raw",
   "metadata": {},
   "source": [
    "length_1 = len(text_1)\n",
    "length_2 = len(text_2)\n",
    "\n",
    "if length_1 > length_2:\n",
    "    text_image = text_1\n",
    "else:\n",
    "    text_image = text_2"
   ]
  },
  {
   "cell_type": "markdown",
   "metadata": {},
   "source": [
    "<h2> Text preprocessing"
   ]
  },
  {
   "cell_type": "markdown",
   "metadata": {
    "ExecuteTime": {
     "end_time": "2020-06-11T15:16:23.210268Z",
     "start_time": "2020-06-11T15:16:23.203273Z"
    }
   },
   "source": [
    "The final step will be to work on the text"
   ]
  },
  {
   "cell_type": "markdown",
   "metadata": {},
   "source": [
    "pytesseract library will provide us with unprocessed text, which means that we need to split the lines and make sure that we will have a clear text in order to extract the final information."
   ]
  },
  {
   "cell_type": "raw",
   "metadata": {},
   "source": [
    "text_lst = text_image.splitlines() # This is to get each line as a seperate text\n",
    "text_lst = [word for word in text_lst if len(word)!= 0]"
   ]
  },
  {
   "cell_type": "markdown",
   "metadata": {},
   "source": [
    "Finally, I created some functions to get Full name, email & phone number"
   ]
  },
  {
   "cell_type": "raw",
   "metadata": {},
   "source": [
    "def get_full_name(lst):\n",
    "    for idx in lst:\n",
    "        full_name = re.match(r\"(?P<first_name>\\w+) (?P<last_name>\\w+)\", idx)\n",
    "        if full_name is not None:\n",
    "            return idx"
   ]
  },
  {
   "cell_type": "raw",
   "metadata": {
    "ExecuteTime": {
     "end_time": "2020-06-11T15:20:14.912103Z",
     "start_time": "2020-06-11T15:20:14.899107Z"
    }
   },
   "source": [
    "def get_email(lst):\n",
    "    for idx in lst:\n",
    "        mail = re.search(r'[\\w\\.-]+@[\\w\\.-]+', idx)\n",
    "        if mail is not None:\n",
    "            return idx"
   ]
  },
  {
   "cell_type": "raw",
   "metadata": {
    "ExecuteTime": {
     "end_time": "2020-06-11T15:34:30.084054Z",
     "start_time": "2020-06-11T15:34:30.075080Z"
    }
   },
   "source": [
    "def get_phone_number(lst):\n",
    "    for idx in lst:\n",
    "        for i in range(0, len(idx)):\n",
    "            if idx[i][0] == \"+\":\n",
    "                return idx\n",
    "            elif idx[i][0] == \"0\":\n",
    "                return idx"
   ]
  },
  {
   "cell_type": "markdown",
   "metadata": {},
   "source": [
    "At the end I only have to print the final result"
   ]
  },
  {
   "cell_type": "raw",
   "metadata": {},
   "source": [
    "Name = \"\"\n",
    "Telephone = \"\"\n",
    "Email = \"\"\n",
    "#===========\n",
    "Final_text = {\"Name\": get_full_name(text_lst),\n",
    "              \"Telephone\" : get_phone_number(text_lst),\n",
    "              \"Email\" : get_email(text_lst),}\n",
    "\n",
    "print(Final_text)"
   ]
  },
  {
   "cell_type": "markdown",
   "metadata": {},
   "source": [
    "Now you have the final text. You can do whatever you want with it.\n",
    "\n",
    "I hope you found this tutorial valuable! If you have any requests, would like some clarification, or find a bug, please let me know!"
   ]
  }
 ],
 "metadata": {
  "kernelspec": {
   "display_name": "Python 3",
   "language": "python",
   "name": "python3"
  },
  "language_info": {
   "codemirror_mode": {
    "name": "ipython",
    "version": 3
   },
   "file_extension": ".py",
   "mimetype": "text/x-python",
   "name": "python",
   "nbconvert_exporter": "python",
   "pygments_lexer": "ipython3",
   "version": "3.7.6"
  }
 },
 "nbformat": 4,
 "nbformat_minor": 4
}
